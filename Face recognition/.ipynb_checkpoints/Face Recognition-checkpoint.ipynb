{
 "cells": [
  {
   "cell_type": "code",
   "execution_count": 1,
   "metadata": {
    "collapsed": true
   },
   "outputs": [],
   "source": [
    "import cv2\n",
    "cam = cv2.VideoCapture(0)\n",
    "detector=cv2.CascadeClassifier('haarcascade_frontalface_default.xml')"
   ]
  },
  {
   "cell_type": "code",
   "execution_count": 2,
   "metadata": {
    "collapsed": false
   },
   "outputs": [
    {
     "name": "stdout",
     "output_type": "stream",
     "text": [
      "enter your id: 3\n"
     ]
    }
   ],
   "source": [
    "\n",
    "Id=raw_input('enter your id: ')\n",
    "sampleNum=0"
   ]
  },
  {
   "cell_type": "code",
   "execution_count": 3,
   "metadata": {
    "collapsed": false
   },
   "outputs": [],
   "source": [
    "while(True):\n",
    "    ret, img = cam.read()\n",
    "    gray = cv2.cvtColor(img, cv2.COLOR_BGR2GRAY)\n",
    "    faces = detector.detectMultiScale(gray, 1.3, 5)\n",
    "    for (x,y,w,h) in faces:\n",
    "        cv2.rectangle(img,(x,y),(x+w,y+h),(255,0,0),2)\n",
    "        \n",
    "        #incrementing sample number \n",
    "        sampleNum=sampleNum+1\n",
    "        #saving the captured face in the dataset folder\n",
    "        cv2.imwrite(\"dataset/User.\"+Id +'.'+ str(sampleNum) + \".jpg\", gray[y:y+h,x:x+w]) #\n",
    "\n",
    "        cv2.imshow('frame',img)\n",
    "    #wait for 100 miliseconds \n",
    "    if cv2.waitKey(100) & 0xFF == ord('q'):\n",
    "        break\n",
    "    # break if the sample number is morethan 20\n",
    "    elif sampleNum>50:\n",
    "        break\n",
    "\n",
    "cam.release()\n",
    "cv2.destroyAllWindows()"
   ]
  },
  {
   "cell_type": "code",
   "execution_count": null,
   "metadata": {
    "collapsed": true
   },
   "outputs": [],
   "source": []
  },
  {
   "cell_type": "code",
   "execution_count": 4,
   "metadata": {
    "collapsed": true
   },
   "outputs": [],
   "source": [
    "import cv2,os\n",
    "import numpy as np\n",
    "from PIL import Image"
   ]
  },
  {
   "cell_type": "code",
   "execution_count": 5,
   "metadata": {
    "collapsed": true
   },
   "outputs": [],
   "source": [
    "recognizer = cv2.createLBPHFaceRecognizer()\n",
    "detector= cv2.CascadeClassifier(\"haarcascade_frontalface_default.xml\");"
   ]
  },
  {
   "cell_type": "code",
   "execution_count": 6,
   "metadata": {
    "collapsed": true
   },
   "outputs": [],
   "source": [
    "def getImagesAndLabels(path):\n",
    "    #get the path of all the files in the folder\n",
    "    imagePaths=[os.path.join(path,f) for f in os.listdir(path)] \n",
    "    #create empth face list\n",
    "    faceSamples=[]\n",
    "    #create empty ID list\n",
    "    Ids=[]\n",
    "    #now looping through all the image paths and loading the Ids and the images\n",
    "    for imagePath in imagePaths:\n",
    "        #loading the image and converting it to gray scale\n",
    "        pilImage=Image.open(imagePath).convert('L')\n",
    "        #Now we are converting the PIL image into numpy array\n",
    "        imageNp=np.array(pilImage,'uint8')\n",
    "        #getting the Id from the image\n",
    "        Id=int(os.path.split(imagePath)[-1].split(\".\")[1])\n",
    "        # extract the face from the training image sample\n",
    "        faces=detector.detectMultiScale(imageNp)\n",
    "        #If a face is there then append that in the list as well as Id of it\n",
    "        for (x,y,w,h) in faces:\n",
    "            faceSamples.append(imageNp[y:y+h,x:x+w])\n",
    "            Ids.append(Id)\n",
    "    return faceSamples,Ids"
   ]
  },
  {
   "cell_type": "code",
   "execution_count": 9,
   "metadata": {
    "collapsed": false
   },
   "outputs": [],
   "source": [
    "faces,Ids = getImagesAndLabels('dataset')\n",
    "recognizer.train(faces, np.array(Ids))\n",
    "recognizer.save('trainner/trainner.yml')"
   ]
  },
  {
   "cell_type": "code",
   "execution_count": 10,
   "metadata": {
    "collapsed": true
   },
   "outputs": [],
   "source": [
    "import cv2\n",
    "import numpy as np"
   ]
  },
  {
   "cell_type": "code",
   "execution_count": 12,
   "metadata": {
    "collapsed": false
   },
   "outputs": [
    {
     "name": "stdout",
     "output_type": "stream",
     "text": [
      "Sandeep76.6630396037\n",
      "Sandeep77.5978567635\n",
      "Sandeep77.7855898816\n",
      "Sandeep58.3404620776\n",
      "Sandeep77.8421546854\n",
      "Sandeep76.436524196\n",
      "Sandeep79.5107729539\n",
      "Sandeep78.7329169193\n",
      "Sandeep79.3341838395\n",
      "Sandeep79.3140731162\n",
      "Sandeep79.4636691622\n",
      "Sandeep77.1569166077\n",
      "Sandeep74.5521443824\n",
      "Sandeep77.8374609423\n",
      "Abel76.5900816398\n",
      "Abel76.9283476588\n",
      "Abel73.3957087227\n",
      "Abel74.2574815847\n",
      "Abel75.1061464328\n",
      "Abel72.7182169469\n",
      "Abel76.2398994405\n",
      "Abel75.9342807352\n",
      "Sandeep78.8749538936\n",
      "Abel75.4690526039\n",
      "Abel78.6118928931\n",
      "Abel76.2529213255\n",
      "Abel76.2376392391\n",
      "Abel76.3858620797\n",
      "Abel75.7616381561\n",
      "Abel79.9933379201\n",
      "Abel78.8231289943\n",
      "Abel78.3256845889\n",
      "Abel79.9200021512\n",
      "Abel62.9838548821\n",
      "Abel73.3200667815\n",
      "Abel69.6328400939\n",
      "Abel71.3016171029\n",
      "Abel71.5455910543\n",
      "Abel71.3904048152\n",
      "Abel62.3637785003\n",
      "Abel66.8592527249\n",
      "Abel71.2142704617\n",
      "Abel66.6561426611\n",
      "Sandeep71.454731763\n",
      "Abel68.4962757748\n",
      "Abel74.290639337\n",
      "Sandeep76.9459076483\n",
      "Abel68.1147833514\n",
      "Abel62.1103634945\n",
      "Abel75.2897216378\n",
      "Abel67.282905726\n",
      "Abel62.0598766303\n",
      "Abel67.2578300185\n",
      "Sandeep76.3265566573\n",
      "Abel69.6809471995\n",
      "Abel58.6066175112\n",
      "Abel69.7156883578\n",
      "Abel67.7327765107\n",
      "Abel77.6476526065\n",
      "Abel67.4532966428\n",
      "Abel61.9509071701\n",
      "Abel74.6465082889\n",
      "Abel64.2925771533\n",
      "Abel70.5747203945\n",
      "Abel76.3041066679\n",
      "Abel72.703698547\n",
      "Abel74.5384388253\n",
      "Abel68.1158063456\n",
      "Abel79.3375706127\n",
      "Abel66.4069587544\n",
      "Abel74.4806999972\n",
      "Abel55.8775047763\n",
      "Abel78.9653947602\n",
      "Abel65.0680190335\n",
      "Abel67.8175460834\n",
      "Abel65.874474132\n",
      "Abel65.5880103154\n",
      "Abel64.7329555493\n",
      "Abel73.8647980735\n",
      "Abel77.0446133381\n",
      "Abel65.172018982\n",
      "Abel79.1994550291\n",
      "Abel77.7675254646\n",
      "Abel73.3334428614\n",
      "Abel66.7344367291\n",
      "Abel76.8482118682\n",
      "Abel73.703717662\n",
      "Abel75.785185189\n",
      "Abel68.9982718798\n",
      "Abel66.5411916489\n",
      "Abel65.5000351837\n",
      "Abel74.1667120824\n",
      "Abel72.9082093179\n",
      "Abel70.4563464757\n",
      "Abel76.0501241346\n",
      "Abel74.9382626539\n",
      "Abel79.094468522\n",
      "Abel79.0236693122\n",
      "Abel77.4044006466\n",
      "Abel72.9676872944\n",
      "Abel79.8873360616\n",
      "Abel72.6698511796\n",
      "Abel75.0998939334\n",
      "Abel71.4688068932\n",
      "Abel76.4311768089\n",
      "Abel78.3628868327\n",
      "Abel78.7825598177\n",
      "Abel78.6393257757\n",
      "Abel75.115380753\n",
      "Abel77.2453683419\n",
      "Abel78.5112008345\n",
      "Abel77.7208413096\n",
      "Abel77.4566368785\n",
      "Abel76.4188725181\n",
      "Abel64.3673787984\n",
      "Abel74.4098754256\n",
      "Abel76.2477530097\n",
      "Abel78.8551113586\n",
      "Abel79.7353961674\n",
      "Abel78.34168883\n",
      "Abel79.497881812\n",
      "Abel71.1811177156\n",
      "Abel78.9681558161\n",
      "Abel78.5092809704\n",
      "Abel79.9191028393\n",
      "Abel77.4809349729\n",
      "Abel78.0777713654\n",
      "Abel77.9129839087\n",
      "Abel79.7281334424\n",
      "Abel78.6924649753\n",
      "Abel79.4292091077\n",
      "Abel74.1809661134\n",
      "Sandeep79.3385959597\n",
      "Abel75.6920759564\n",
      "Abel76.7461650751\n",
      "Abel72.0339000169\n",
      "Abel73.5620666293\n",
      "Abel76.9642044483\n",
      "Abel72.3170886258\n",
      "Sandeep78.0293686398\n",
      "Abel73.0695182255\n",
      "Abel76.6005410418\n",
      "Abel72.8000794335\n",
      "Sandeep73.3197766402\n",
      "Abel72.9127927733\n",
      "Sandeep67.8400183895\n",
      "Abel75.7626337764\n"
     ]
    }
   ],
   "source": [
    "\n",
    "\n",
    "recognizer = cv2.createLBPHFaceRecognizer()\n",
    "recognizer.load('trainner/trainner.yml')\n",
    "cascadePath = \"haarcascade_frontalface_default.xml\"\n",
    "faceCascade = cv2.CascadeClassifier(cascadePath);\n",
    "\n",
    "\n",
    "cam = cv2.VideoCapture(0)\n",
    "font = cv2.cv.InitFont(cv2.cv.CV_FONT_HERSHEY_SIMPLEX, 1, 1, 0, 1, 1)\n",
    "while True:\n",
    "    ret, im =cam.read()\n",
    "    gray=cv2.cvtColor(im,cv2.COLOR_BGR2GRAY)\n",
    "    faces=faceCascade.detectMultiScale(gray, 1.2,5)\n",
    "    for(x,y,w,h) in faces:\n",
    "        cv2.rectangle(im,(x,y),(x+w,y+h),(225,0,0),2)\n",
    "        Id, conf = recognizer.predict(gray[y:y+h,x:x+w])\n",
    "        if(conf<70):\n",
    "            if(Id==1):\n",
    "                Id=\"Sandeep\"\n",
    "                print Id+str(conf)\n",
    "            elif(Id==2):\n",
    "                Id=\"Azhar\"\n",
    "            elif(Id==3):\n",
    "                Id=\"Abel\"\n",
    "                print Id+str(conf)\n",
    "        else:\n",
    "            Id=\"Unknown\"\n",
    "        cv2.cv.PutText(cv2.cv.fromarray(im),str(Id), (x,y+h),font, 255)\n",
    "    cv2.imshow('im',im) \n",
    "    if cv2.waitKey(10) & 0xFF==ord('q'):\n",
    "        break\n",
    "cam.release()\n",
    "cv2.destroyAllWindows()"
   ]
  },
  {
   "cell_type": "code",
   "execution_count": null,
   "metadata": {
    "collapsed": true
   },
   "outputs": [],
   "source": []
  }
 ],
 "metadata": {
  "kernelspec": {
   "display_name": "Python 2",
   "language": "python",
   "name": "python2"
  },
  "language_info": {
   "codemirror_mode": {
    "name": "ipython",
    "version": 2
   },
   "file_extension": ".py",
   "mimetype": "text/x-python",
   "name": "python",
   "nbconvert_exporter": "python",
   "pygments_lexer": "ipython2",
   "version": "2.7.12"
  }
 },
 "nbformat": 4,
 "nbformat_minor": 2
}
