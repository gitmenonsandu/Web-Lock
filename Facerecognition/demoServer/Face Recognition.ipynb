{
 "cells": [
  {
   "cell_type": "code",
   "execution_count": 1,
   "metadata": {
    "collapsed": true
   },
   "outputs": [],
   "source": [
    "import cv2\n",
    "import time\n",
    "import pandas as pd\n",
    "cam = cv2.VideoCapture(0)\n",
    "detector=cv2.CascadeClassifier('haarcascade_frontalface_default.xml')"
   ]
  },
  {
   "cell_type": "code",
   "execution_count": 2,
   "metadata": {
    "collapsed": false
   },
   "outputs": [
    {
     "name": "stdout",
     "output_type": "stream",
     "text": [
      "enter your id: 5\n",
      "Enter your name :Sandeep\n"
     ]
    }
   ],
   "source": [
    "\n",
    "Id=raw_input('enter your id: ')\n",
    "name=raw_input('Enter your name :')\n"
   ]
  },
  {
   "cell_type": "code",
   "execution_count": 3,
   "metadata": {
    "collapsed": false
   },
   "outputs": [
    {
     "data": {
      "text/plain": [
       "2"
      ]
     },
     "execution_count": 3,
     "metadata": {},
     "output_type": "execute_result"
    }
   ],
   "source": [
    "data=pd.read_csv('userdata.csv')\n",
    "len(data['Id'])"
   ]
  },
  {
   "cell_type": "code",
   "execution_count": 4,
   "metadata": {
    "collapsed": false
   },
   "outputs": [],
   "source": [
    "def make_dataset(name):\n",
    "    import csv   \n",
    "    sampleNum=0\n",
    "    data=pd.read_csv('userdata.csv')\n",
    "    Id=len(data['Id'])+1\n",
    "    fields=[Id,name]\n",
    "    with open(r'userdata.csv', 'a') as f:\n",
    "        writer = csv.writer(f)\n",
    "        writer.writerow(fields)\n",
    "        \n",
    "    i=0\n",
    "    userlist={}\n",
    "    with open('userdata.csv') as csvfile:\n",
    "        reader=csv.reader(csvfile)\n",
    "        for row in reader:\n",
    "            if i==0:\n",
    "                i=1\n",
    "                continue\n",
    "            print row\n",
    "            userlist[row[0]]=row[1]\n",
    "    userlist\n",
    "    \n",
    "    Id=str(Id)\n",
    "    while(True):\n",
    "        ret, img = cam.read()\n",
    "        gray = cv2.cvtColor(img, cv2.COLOR_BGR2GRAY)\n",
    "        faces = detector.detectMultiScale(gray, 1.3, 5)\n",
    "        for (x,y,w,h) in faces:\n",
    "            cv2.rectangle(img,(x,y),(x+w,y+h),(255,0,0),2)\n",
    "\n",
    "            #incrementing sample number \n",
    "            sampleNum=sampleNum+1\n",
    "            #saving the captured face in the dataset folder\n",
    "            cv2.imwrite(\"dataset/User.\"+Id +'.'+ str(sampleNum) + \".jpg\", gray[y:y+h,x:x+w])\n",
    "\n",
    "            cv2.imshow('frame',img)\n",
    "        #wait for 100 miliseconds \n",
    "        time.sleep(0.2)\n",
    "        if cv2.waitKey(100) & 0xFF == ord('q'):\n",
    "            break\n",
    "        # break if the sample number is morethan 20\n",
    "        elif sampleNum>30:\n",
    "            break\n",
    "\n",
    "    cam.release()\n",
    "    cv2.destroyAllWindows()\n",
    "    return userlist\n"
   ]
  },
  {
   "cell_type": "code",
   "execution_count": null,
   "metadata": {
    "collapsed": false
   },
   "outputs": [],
   "source": []
  },
  {
   "cell_type": "markdown",
   "metadata": {
    "collapsed": true
   },
   "source": [
    "\n"
   ]
  },
  {
   "cell_type": "code",
   "execution_count": 5,
   "metadata": {
    "collapsed": true
   },
   "outputs": [],
   "source": [
    "def train_dataset():\n",
    "    import cv2,os\n",
    "    import numpy as np\n",
    "    from PIL import Image\n",
    "    \n",
    "    recognizer = cv2.createLBPHFaceRecognizer()\n",
    "    detector= cv2.CascadeClassifier(\"haarcascade_frontalface_default.xml\");\n",
    "    \n",
    "    faces,Ids = getImagesAndLabels('dataset')\n",
    "    recognizer.train(faces, np.array(Ids))\n",
    "    recognizer.save('trainner/trainner.yml')"
   ]
  },
  {
   "cell_type": "code",
   "execution_count": null,
   "metadata": {
    "collapsed": true
   },
   "outputs": [],
   "source": []
  },
  {
   "cell_type": "code",
   "execution_count": null,
   "metadata": {
    "collapsed": true
   },
   "outputs": [],
   "source": []
  },
  {
   "cell_type": "code",
   "execution_count": 6,
   "metadata": {
    "collapsed": true
   },
   "outputs": [],
   "source": [
    "def getImagesAndLabels(path):\n",
    "    #get the path of all the files in the folder\n",
    "    imagePaths=[os.path.join(path,f) for f in os.listdir(path)] \n",
    "    #create empth face list\n",
    "    faceSamples=[]\n",
    "    #create empty ID list\n",
    "    Ids=[]\n",
    "    #now looping through all the image paths and loading the Ids and the images\n",
    "    for imagePath in imagePaths:\n",
    "        #loading the image and converting it to gray scale\n",
    "        pilImage=Image.open(imagePath).convert('L')\n",
    "        #Now we are converting the PIL image into numpy array\n",
    "        imageNp=np.array(pilImage,'uint8')\n",
    "        #getting the Id from the image\n",
    "        Id=int(os.path.split(imagePath)[-1].split(\".\")[1])\n",
    "        # extract the face from the training image sample\n",
    "        faces=detector.detectMultiScale(imageNp)\n",
    "        #If a face is there then append that in the list as well as Id of it\n",
    "        for (x,y,w,h) in faces:\n",
    "            faceSamples.append(imageNp[y:y+h,x:x+w])\n",
    "            Ids.append(Id)\n",
    "    return faceSamples,Ids"
   ]
  },
  {
   "cell_type": "code",
   "execution_count": 7,
   "metadata": {
    "collapsed": false
   },
   "outputs": [],
   "source": [
    "def predict_face(userlist):\n",
    "    import cv2\n",
    "    import numpy as np\n",
    "    \n",
    "    \n",
    "    recognizer = cv2.createLBPHFaceRecognizer()\n",
    "    recognizer.load('trainner/trainner.yml')\n",
    "    cascadePath = \"haarcascade_frontalface_default.xml\"\n",
    "    faceCascade = cv2.CascadeClassifier(cascadePath);\n",
    "\n",
    "\n",
    "    count=0\n",
    "    cam = cv2.VideoCapture(0)\n",
    "    font = cv2.cv.InitFont(cv2.cv.CV_FONT_HERSHEY_SIMPLEX, 1, 1, 0, 1, 1)\n",
    "    flag=False\n",
    "    while True:\n",
    "        if flag:\n",
    "            break\n",
    "        ret, im =cam.read()\n",
    "        gray=cv2.cvtColor(im,cv2.COLOR_BGR2GRAY)\n",
    "        faces=faceCascade.detectMultiScale(gray, 1.2,5)\n",
    "        for(x,y,w,h) in faces:\n",
    "            cv2.rectangle(im,(x,y),(x+w,y+h),(225,0,0),2)\n",
    "            Id, conf = recognizer.predict(gray[y:y+h,x:x+w])\n",
    "            if(conf<70):\n",
    "                Id= userlist.get(str(Id))\n",
    "                count+=1\n",
    "                print count\n",
    "                if count==5:\n",
    "                    flag=True\n",
    "                    break\n",
    "            else:\n",
    "                Id=\"Unknown\"\n",
    "            cv2.cv.PutText(cv2.cv.fromarray(im),str(Id), (x,y+h),font, 255)\n",
    "        cv2.imshow('im',im) \n",
    "        if cv2.waitKey(10) & 0xFF==ord('q'):\n",
    "            break\n",
    "    cam.release()\n",
    "    cv2.destroyAllWindows()\n",
    "    \n",
    "    return Id"
   ]
  },
  {
   "cell_type": "code",
   "execution_count": 8,
   "metadata": {
    "collapsed": false
   },
   "outputs": [
    {
     "name": "stdout",
     "output_type": "stream",
     "text": [
      "['1', 'Sandeep']\n",
      "['2', 'Sandeep']\n",
      "['3', 'Sandeep']\n"
     ]
    }
   ],
   "source": [
    "userlist=make_dataset('Sandeep')\n"
   ]
  },
  {
   "cell_type": "code",
   "execution_count": 72,
   "metadata": {
    "collapsed": false
   },
   "outputs": [
    {
     "name": "stdout",
     "output_type": "stream",
     "text": [
      "1\n",
      "2\n",
      "3\n",
      "4\n",
      "5\n"
     ]
    },
    {
     "data": {
      "text/plain": [
       "'Sandeep'"
      ]
     },
     "execution_count": 72,
     "metadata": {},
     "output_type": "execute_result"
    }
   ],
   "source": [
    "predict_face(userlist)\n"
   ]
  },
  {
   "cell_type": "markdown",
   "metadata": {
    "collapsed": true
   },
   "source": []
  }
 ],
 "metadata": {
  "kernelspec": {
   "display_name": "Python 2",
   "language": "python",
   "name": "python2"
  },
  "language_info": {
   "codemirror_mode": {
    "name": "ipython",
    "version": 2
   },
   "file_extension": ".py",
   "mimetype": "text/x-python",
   "name": "python",
   "nbconvert_exporter": "python",
   "pygments_lexer": "ipython2",
   "version": "2.7.12"
  }
 },
 "nbformat": 4,
 "nbformat_minor": 2
}
